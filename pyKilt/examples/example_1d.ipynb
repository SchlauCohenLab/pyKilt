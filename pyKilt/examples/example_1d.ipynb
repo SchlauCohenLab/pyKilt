{
 "cells": [
  {
   "cell_type": "code",
   "execution_count": null,
   "id": "f5e2ba1c",
   "metadata": {},
   "outputs": [],
   "source": [
    "import numpy as np\n",
    "from kilt.fit.mem_1d import scan_irf_and_eta_1d\n",
    "from kilt.core.kernels import gaussian_irf, exp_kernel, make_irf_matrix_conv\n",
    "from kilt.types import ILT1DConfig\n",
    "from kilt.viz import plot_1d_fit"
   ]
  },
  {
   "cell_type": "code",
   "execution_count": null,
   "id": "d134ba19",
   "metadata": {},
   "outputs": [],
   "source": [
    "\"\"\"Runnable example to run 1D MEM ILT on synthetic data.\"\"\"\n",
    "\n",
    "import numpy as np\n",
    "from kilt.fit.mem_1d import scan_irf_and_eta_1d\n",
    "from kilt.core.kernels import gaussian_irf, exp_kernel, make_irf_matrix_conv\n",
    "from kilt.types import ILT1DConfig\n",
    "from kilt.viz import plot_1d_fit\n",
    "\n",
    "# time axis and synthetic two-exponential signal\n",
    "time = np.linspace(0, 10, 300)\n",
    "tau_true = np.array([1.5, 3.5])\n",
    "amp_true = np.array([1.0, 0.4])\n",
    "ExpData = amp_true[0]*np.exp(-time/tau_true[0]) + amp_true[1]*np.exp(-time/tau_true[1])\n",
    "ExpData += 0.02 * np.random.randn(len(time)) * np.max(ExpData)\n",
    "# tau grid\n",
    "tau = np.linspace(0.1, 6, 80)\n",
    "irf = gaussian_irf(time, center=0.5, width=0.2)\n",
    "cfg = ILT1DConfig(time=time, tau=tau, irf=irf,\n",
    "                    eta_grid=np.logspace(-8, -4, 4),\n",
    "                    irf_shift_list=np.arange(0, 4), conv_pad=8,\n",
    "                    m_prior=np.ones_like(tau)/len(tau),\n",
    "                    y0=ExpData.min(),\n",
    "                    verbose=True)\n",
    "                    \n",
    "result = scan_irf_and_eta_1d(ExpData, time, tau, irf, cfg)\n",
    "print(\"Best loss:\", result.best_loss, \"Best eta:\", result.best_eta, \"IRF shift:\", result.best_irf_shift)\n",
    "fig = plot_1d_fit(time, ExpData, result.outputs['fit_curve'], result.outputs['A'], tau)\n",
    "fig.show()\n",
    "\n"
   ]
  },
  {
   "cell_type": "code",
   "execution_count": null,
   "id": "9e6a8ca1",
   "metadata": {},
   "outputs": [],
   "source": []
  }
 ],
 "metadata": {
  "language_info": {
   "name": "python"
  }
 },
 "nbformat": 4,
 "nbformat_minor": 5
}
